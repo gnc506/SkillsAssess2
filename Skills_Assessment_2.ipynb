{
  "nbformat": 4,
  "nbformat_minor": 0,
  "metadata": {
    "colab": {
      "provenance": [],
      "authorship_tag": "ABX9TyONbdUFlEfHC0CK1p518YfV",
      "include_colab_link": true
    },
    "kernelspec": {
      "name": "python3",
      "display_name": "Python 3"
    },
    "language_info": {
      "name": "python"
    }
  },
  "cells": [
    {
      "cell_type": "markdown",
      "metadata": {
        "id": "view-in-github",
        "colab_type": "text"
      },
      "source": [
        "<a href=\"https://colab.research.google.com/github/gnc506/SkillsAssess2/blob/main/Skills_Assessment_2.ipynb\" target=\"_parent\"><img src=\"https://colab.research.google.com/assets/colab-badge.svg\" alt=\"Open In Colab\"/></a>"
      ]
    },
    {
      "cell_type": "code",
      "execution_count": 15,
      "metadata": {
        "id": "3q7p1l_D1ajv"
      },
      "outputs": [],
      "source": [
        "import pandas as pd\n",
        "import plotly.express as px\n",
        "import matplotlib.pyplot as plt\n"
      ]
    },
    {
      "cell_type": "code",
      "source": [
        "articles_data = pd.read_csv('articles.Dengue.csv')\n",
        "authors_data = pd.read_csv('authors.Dengue.csv')\n",
        "paper_count_data = pd.read_csv('paper_counts.csv')"
      ],
      "metadata": {
        "id": "NsZ_15mx232H"
      },
      "execution_count": 16,
      "outputs": []
    }
  ]
}